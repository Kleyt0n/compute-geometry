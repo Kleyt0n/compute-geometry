{
 "cells": [
  {
   "cell_type": "code",
   "execution_count": 1,
   "metadata": {},
   "outputs": [],
   "source": [
    "import sys\n",
    "sys.path.append('../')"
   ]
  },
  {
   "cell_type": "code",
   "execution_count": null,
   "metadata": {},
   "outputs": [],
   "source": [
    "from geometryalg.algorithms import ConvexHull"
   ]
  },
  {
   "cell_type": "code",
   "execution_count": null,
   "metadata": {},
   "outputs": [],
   "source": [
    "fig = plt.figure(figsize=(12, 7))\n",
    "for i in range(2):\n",
    "    P = JarvisMarchGift(np.loadtxt(f'convex-hull/nuvem{i+1}.txt'))\n",
    "    ax = fig.add_subplot(1, 2, i+1)\n",
    "    P.plot_convex_hull(f'Nuvem {i+1}')\n",
    "    plt.tight_layout()\n",
    "    with open(f'convex-hull/fecho{i+1}.txt', 'w') as f:\n",
    "        for item in P.get_indexes():\n",
    "            f.write(\"%s\\n\" % item)"
   ]
  }
 ],
 "metadata": {
  "kernelspec": {
   "display_name": "base",
   "language": "python",
   "name": "python3"
  },
  "language_info": {
   "codemirror_mode": {
    "name": "ipython",
    "version": 3
   },
   "file_extension": ".py",
   "mimetype": "text/x-python",
   "name": "python",
   "nbconvert_exporter": "python",
   "pygments_lexer": "ipython3",
   "version": "3.11.4"
  }
 },
 "nbformat": 4,
 "nbformat_minor": 2
}
